{
 "cells": [
  {
   "cell_type": "code",
   "execution_count": 1,
   "metadata": {
    "executionInfo": {
     "elapsed": 370,
     "status": "ok",
     "timestamp": 1634980402282,
     "user": {
      "displayName": "Hussain Alhadab",
      "photoUrl": "https://lh3.googleusercontent.com/a/default-user=s64",
      "userId": "13384225215561180454"
     },
     "user_tz": -180
    },
    "id": "JdvUMEp15WLG"
   },
   "outputs": [],
   "source": [
    "from bs4 import BeautifulSoup\n",
    "import requests\n",
    "import pandas as pd\n",
    "import numpy as np\n",
    "\n",
    "from tqdm.notebook import tqdm"
   ]
  },
  {
   "cell_type": "code",
   "execution_count": 2,
   "metadata": {
    "executionInfo": {
     "elapsed": 14,
     "status": "ok",
     "timestamp": 1634980402774,
     "user": {
      "displayName": "Hussain Alhadab",
      "photoUrl": "https://lh3.googleusercontent.com/a/default-user=s64",
      "userId": "13384225215561180454"
     },
     "user_tz": -180
    },
    "id": "NFTliUm8JCnf"
   },
   "outputs": [],
   "source": [
    "def read_url(url):\n",
    "    response = requests.get(url)\n",
    "    page=response.text\n",
    "    soup=BeautifulSoup(page,'lxml')\n",
    "    return soup"
   ]
  },
  {
   "cell_type": "markdown",
   "metadata": {
    "id": "yyMmbCHOi2w_"
   },
   "source": [
    "# All apartments pages"
   ]
  },
  {
   "cell_type": "code",
   "execution_count": 3,
   "metadata": {
    "executionInfo": {
     "elapsed": 15,
     "status": "ok",
     "timestamp": 1634980402775,
     "user": {
      "displayName": "Hussain Alhadab",
      "photoUrl": "https://lh3.googleusercontent.com/a/default-user=s64",
      "userId": "13384225215561180454"
     },
     "user_tz": -180
    },
    "id": "BpEbBkxZIiQ_"
   },
   "outputs": [],
   "source": [
    "url_list=[]\n",
    "\n",
    "for i in range(1,355):\n",
    "    url_list.append('https://sa.aqar.fm/%D8%B4%D9%82%D9%82-%D9%84%D9%84%D8%A5%D9%8A%D8%AC%D8%A7%D8%B1/%D8%A7%D9%84%D8%B1%D9%8A%D8%A7%D8%B6/{}?rent_type=3'.format(i))"
   ]
  },
  {
   "cell_type": "code",
   "execution_count": 4,
   "metadata": {
    "colab": {
     "base_uri": "https://localhost:8080/"
    },
    "executionInfo": {
     "elapsed": 15,
     "status": "ok",
     "timestamp": 1634980402776,
     "user": {
      "displayName": "Hussain Alhadab",
      "photoUrl": "https://lh3.googleusercontent.com/a/default-user=s64",
      "userId": "13384225215561180454"
     },
     "user_tz": -180
    },
    "id": "ugWDyQe4kfnO",
    "outputId": "d0ccad72-b87a-42d3-cae2-0029f453f0ac",
    "scrolled": true
   },
   "outputs": [
    {
     "data": {
      "text/plain": [
       "['https://sa.aqar.fm/%D8%B4%D9%82%D9%82-%D9%84%D9%84%D8%A5%D9%8A%D8%AC%D8%A7%D8%B1/%D8%A7%D9%84%D8%B1%D9%8A%D8%A7%D8%B6/1?rent_type=3',\n",
       " 'https://sa.aqar.fm/%D8%B4%D9%82%D9%82-%D9%84%D9%84%D8%A5%D9%8A%D8%AC%D8%A7%D8%B1/%D8%A7%D9%84%D8%B1%D9%8A%D8%A7%D8%B6/2?rent_type=3',\n",
       " 'https://sa.aqar.fm/%D8%B4%D9%82%D9%82-%D9%84%D9%84%D8%A5%D9%8A%D8%AC%D8%A7%D8%B1/%D8%A7%D9%84%D8%B1%D9%8A%D8%A7%D8%B6/3?rent_type=3',\n",
       " 'https://sa.aqar.fm/%D8%B4%D9%82%D9%82-%D9%84%D9%84%D8%A5%D9%8A%D8%AC%D8%A7%D8%B1/%D8%A7%D9%84%D8%B1%D9%8A%D8%A7%D8%B6/4?rent_type=3',\n",
       " 'https://sa.aqar.fm/%D8%B4%D9%82%D9%82-%D9%84%D9%84%D8%A5%D9%8A%D8%AC%D8%A7%D8%B1/%D8%A7%D9%84%D8%B1%D9%8A%D8%A7%D8%B6/5?rent_type=3']"
      ]
     },
     "execution_count": 4,
     "metadata": {},
     "output_type": "execute_result"
    }
   ],
   "source": [
    "url_list[:5]"
   ]
  },
  {
   "cell_type": "markdown",
   "metadata": {
    "id": "18Noutt3j7Tl"
   },
   "source": [
    "# Scrape apartment urls"
   ]
  },
  {
   "cell_type": "code",
   "execution_count": 5,
   "metadata": {
    "colab": {
     "base_uri": "https://localhost:8080/",
     "height": 66,
     "referenced_widgets": [
      "6ebf988c9c2e497098678971febddc1d",
      "2fa95b15cf744bf4bce7c230820c854a",
      "edd80abc1c9d4990853562baaf3f8e84",
      "3bf47bf7bfb346b5a5a970601689b6ce",
      "28d06de9a6a04df4ab1699c35465d798",
      "e8ad6d095d3042c0b62e39bebbacd1f2",
      "aa70977c4e0d4bbba905ebfc0ebaa8f5",
      "ef96e4e132c04b7b8a91b5d6c137cf91",
      "217487ea6eb444e591af77717945abe3",
      "f8d1c3950ef24debabd7c0d6e118eb09",
      "32bf0f4036e540e19e2b75d4b3e29352"
     ]
    },
    "executionInfo": {
     "elapsed": 287896,
     "status": "ok",
     "timestamp": 1634980690662,
     "user": {
      "displayName": "Hussain Alhadab",
      "photoUrl": "https://lh3.googleusercontent.com/a/default-user=s64",
      "userId": "13384225215561180454"
     },
     "user_tz": -180
    },
    "id": "Mj5VGfj2Dxby",
    "outputId": "d71ae8ec-465e-424c-a899-65029cd5c16d"
   },
   "outputs": [
    {
     "data": {
      "application/vnd.jupyter.widget-view+json": {
       "model_id": "2ea654c57df4496889933214839bbbe7",
       "version_major": 2,
       "version_minor": 0
      },
      "text/plain": [
       "  0%|          | 0/354 [00:00<?, ?it/s]"
      ]
     },
     "metadata": {},
     "output_type": "display_data"
    },
    {
     "data": {
      "text/plain": [
       "7080"
      ]
     },
     "execution_count": 5,
     "metadata": {},
     "output_type": "execute_result"
    }
   ],
   "source": [
    "apartments_list = []\n",
    "for url in tqdm(url_list):\n",
    "    for page in read_url(url).find_all('a',{'class':'listTitle'}):\n",
    "        apartments_list.append('https://sa.aqar.fm' + page.get(\"href\"))\n",
    "len(apartments_list)"
   ]
  },
  {
   "cell_type": "code",
   "execution_count": 6,
   "metadata": {
    "colab": {
     "base_uri": "https://localhost:8080/"
    },
    "executionInfo": {
     "elapsed": 12,
     "status": "ok",
     "timestamp": 1634980690663,
     "user": {
      "displayName": "Hussain Alhadab",
      "photoUrl": "https://lh3.googleusercontent.com/a/default-user=s64",
      "userId": "13384225215561180454"
     },
     "user_tz": -180
    },
    "id": "7YmzBOakJ_42",
    "outputId": "23890d19-7856-4a12-d3ef-5ba788d7b70c"
   },
   "outputs": [
    {
     "data": {
      "text/plain": [
       "['https://sa.aqar.fm/شقق-للإيجار/الرياض/غرب-الرياض/حي-ظهرة-لبن/شارع-ينبع-حي-ظهرة-لبن-الرياض-الرياض-2526973',\n",
       " 'https://sa.aqar.fm/شقق-للإيجار/الرياض/شرق-الرياض/حي-الرمال/شارع-أبي-العلاء-الواسطي-حي-الرمال-الرياض-الرياض-3119941',\n",
       " 'https://sa.aqar.fm/شقق-للإيجار/الرياض/شرق-الرياض/حي-السلام/شارع-الكهف-حي-السلام-الرياض-الرياض-3440789',\n",
       " 'https://sa.aqar.fm/شقق-للإيجار/الرياض/غرب-الرياض/حي-طويق/شارع-احمد-بن-الخطاب-حي-طويق-الرياض-الرياض-3623160',\n",
       " 'https://sa.aqar.fm/شقق-للإيجار/الرياض/شرق-الرياض/حي-النهضة/شارع-عبدالله-بن-سويلم-حي-النهضة-الرياض-الرياض-3567421']"
      ]
     },
     "execution_count": 6,
     "metadata": {},
     "output_type": "execute_result"
    }
   ],
   "source": [
    "apartments_list[:5]"
   ]
  },
  {
   "cell_type": "markdown",
   "metadata": {
    "id": "4bIEF14sj7To"
   },
   "source": [
    "write list to excel file"
   ]
  },
  {
   "cell_type": "code",
   "execution_count": 7,
   "metadata": {
    "executionInfo": {
     "elapsed": 2699,
     "status": "ok",
     "timestamp": 1634980693354,
     "user": {
      "displayName": "Hussain Alhadab",
      "photoUrl": "https://lh3.googleusercontent.com/a/default-user=s64",
      "userId": "13384225215561180454"
     },
     "user_tz": -180
    },
    "id": "bTB-tyf1j7Tp"
   },
   "outputs": [],
   "source": [
    "pd.Series(apartments_list).to_excel('apartments_list2.xlsx')"
   ]
  },
  {
   "cell_type": "markdown",
   "metadata": {
    "id": "D1lwSwxyj7Tq"
   },
   "source": [
    "Or write it to a .txt file"
   ]
  },
  {
   "cell_type": "code",
   "execution_count": 8,
   "metadata": {
    "executionInfo": {
     "elapsed": 19,
     "status": "ok",
     "timestamp": 1634980693366,
     "user": {
      "displayName": "Hussain Alhadab",
      "photoUrl": "https://lh3.googleusercontent.com/a/default-user=s64",
      "userId": "13384225215561180454"
     },
     "user_tz": -180
    },
    "id": "TmDdNwQ8j7Tq"
   },
   "outputs": [],
   "source": [
    "textfile = open(\"apartments_list2.txt\", \"w\")\n",
    "for element in apartments_list:\n",
    "    textfile.write(element + \"\\n\")\n",
    "textfile.close()"
   ]
  },
  {
   "cell_type": "code",
   "execution_count": null,
   "metadata": {
    "executionInfo": {
     "elapsed": 17,
     "status": "ok",
     "timestamp": 1634980693366,
     "user": {
      "displayName": "Hussain Alhadab",
      "photoUrl": "https://lh3.googleusercontent.com/a/default-user=s64",
      "userId": "13384225215561180454"
     },
     "user_tz": -180
    },
    "id": "2cM-J607j7Tq"
   },
   "outputs": [],
   "source": []
  },
  {
   "cell_type": "markdown",
   "metadata": {
    "id": "mvE0B8Mtj7Tr"
   },
   "source": [
    "Read .txt file"
   ]
  },
  {
   "cell_type": "code",
   "execution_count": 9,
   "metadata": {
    "executionInfo": {
     "elapsed": 18,
     "status": "ok",
     "timestamp": 1634980693367,
     "user": {
      "displayName": "Hussain Alhadab",
      "photoUrl": "https://lh3.googleusercontent.com/a/default-user=s64",
      "userId": "13384225215561180454"
     },
     "user_tz": -180
    },
    "id": "_-NdY8ZTj7Tr"
   },
   "outputs": [],
   "source": [
    "with open('apartments_list2.txt','r') as f:\n",
    "    apt_urls = f.read().splitlines()"
   ]
  },
  {
   "cell_type": "code",
   "execution_count": 10,
   "metadata": {
    "id": "F3Fn47rnj7Tr"
   },
   "outputs": [
    {
     "data": {
      "text/plain": [
       "7080"
      ]
     },
     "execution_count": 10,
     "metadata": {},
     "output_type": "execute_result"
    }
   ],
   "source": [
    "len(apt_urls)"
   ]
  },
  {
   "cell_type": "code",
   "execution_count": 11,
   "metadata": {
    "id": "3oOrMtt5j7Ts"
   },
   "outputs": [
    {
     "data": {
      "text/plain": [
       "['https://sa.aqar.fm/شقق-للإيجار/الرياض/غرب-الرياض/حي-ظهرة-لبن/شارع-ينبع-حي-ظهرة-لبن-الرياض-الرياض-2526973',\n",
       " 'https://sa.aqar.fm/شقق-للإيجار/الرياض/شرق-الرياض/حي-الرمال/شارع-أبي-العلاء-الواسطي-حي-الرمال-الرياض-الرياض-3119941',\n",
       " 'https://sa.aqar.fm/شقق-للإيجار/الرياض/شرق-الرياض/حي-السلام/شارع-الكهف-حي-السلام-الرياض-الرياض-3440789',\n",
       " 'https://sa.aqar.fm/شقق-للإيجار/الرياض/غرب-الرياض/حي-طويق/شارع-احمد-بن-الخطاب-حي-طويق-الرياض-الرياض-3623160',\n",
       " 'https://sa.aqar.fm/شقق-للإيجار/الرياض/شرق-الرياض/حي-النهضة/شارع-عبدالله-بن-سويلم-حي-النهضة-الرياض-الرياض-3567421']"
      ]
     },
     "execution_count": 11,
     "metadata": {},
     "output_type": "execute_result"
    }
   ],
   "source": [
    "apt_urls[:5]"
   ]
  },
  {
   "cell_type": "code",
   "execution_count": 12,
   "metadata": {
    "id": "KLGqgkx-j7Ts"
   },
   "outputs": [],
   "source": [
    "def convert(page):\n",
    "    price_tag = page.find('span', {'class':'listingPagePrice'})\n",
    "    price = float(price_tag.text.split()[4].replace(\",\",\"\"))\n",
    "    \n",
    "    #if price_tag.text.split()[3][0]=='ش':\n",
    "    #    return price * 12\n",
    "    #elif price_tag.text.split()[3][0]=='ي':\n",
    "    #    return price * 355\n",
    "    #else:\n",
    "    #    return price\n",
    "    return price, price_tag.text.split()[3]"
   ]
  },
  {
   "cell_type": "markdown",
   "metadata": {
    "id": "BsdtN_gWj7Tt"
   },
   "source": [
    "# Scrape pages details"
   ]
  },
  {
   "cell_type": "code",
   "execution_count": null,
   "metadata": {
    "id": "KibLvCCJj7Tt",
    "scrolled": true
   },
   "outputs": [
    {
     "data": {
      "application/vnd.jupyter.widget-view+json": {
       "model_id": "2bd19df2814d4076b25e60c1e07be905",
       "version_major": 2,
       "version_minor": 0
      },
      "text/plain": [
       "  0%|          | 0/7080 [00:00<?, ?it/s]"
      ]
     },
     "metadata": {},
     "output_type": "display_data"
    },
    {
     "name": "stdout",
     "output_type": "stream",
     "text": [
      "'NoneType' object has no attribute 'text' -> https://sa.aqar.fm/شقق-للإيجار/الرياض/شمال-الرياض/حي-النرجس/شارع-الديوان-حي-النرجس-الرياض-الرياض-3626283\n",
      "'NoneType' object has no attribute 'text' -> https://sa.aqar.fm/شقق-للإيجار/الرياض/غرب-الرياض/حي-العريجاء-الغربية/شارع-الشويرف-حي-العريجاء-الغربية-الرياض-الرياض-3583983\n",
      "'NoneType' object has no attribute 'text' -> https://sa.aqar.fm/شقق-للإيجار/الرياض/شرق-الرياض/حي-اليرموك/شارع-عتود-حي-اليرموك-الرياض-الرياض-3636131\n",
      "'NoneType' object has no attribute 'text' -> https://sa.aqar.fm/شقق-للإيجار/الرياض/شرق-الرياض/حي-اليرموك/شارع-الهملة-حي-اليرموك-الرياض-الرياض-3644657\n",
      "'NoneType' object has no attribute 'text' -> https://sa.aqar.fm/شقق-للإيجار/الرياض/شرق-الرياض/حي-اليرموك/شارع-الهملة-حي-اليرموك-الرياض-الرياض-3644657\n",
      "'NoneType' object has no attribute 'text' -> https://sa.aqar.fm/شقق-للإيجار/الرياض/شرق-الرياض/حي-الخليج/شارع-الضائن-حي-الخليج-الرياض-الرياض-3641468\n",
      "'NoneType' object has no attribute 'text' -> https://sa.aqar.fm/شقق-للإيجار/الرياض/وسط-الرياض/حي-الزهراء/شارع-المنفلوطي-حي-الزهراء-الرياض-الرياض-3590711\n",
      "'NoneType' object has no attribute 'text' -> https://sa.aqar.fm/شقق-للإيجار/الرياض/شرق-الرياض/حي-الرمال/حي-الرمال-الرياض-الرياض-3614460\n"
     ]
    }
   ],
   "source": [
    "PRICE_list = []\n",
    "DISTRICT_list = []\n",
    "BED_list = []\n",
    "BATH_list = []\n",
    "LIVING_List = []\n",
    "AGE_list = []\n",
    "FLOOR_list = []\n",
    "TARGET_list = []\n",
    "REGION_list = []\n",
    "DURATION_list = []\n",
    "urlapt = []\n",
    "\n",
    "IMAGES_list = []\n",
    "\n",
    "FURNISHED_list = []\n",
    "KITCHEN_list = []\n",
    "ANNEXE_list = []\n",
    "PARKING_list = []\n",
    "ELEVATOR_list = []\n",
    "AC_list = []\n",
    "\n",
    "R = ['وسط الرياض','جنوب الرياض','شمال الرياض','شرق الرياض','غرب الرياض']\n",
    "\n",
    "for url in tqdm(apt_urls):\n",
    "    try:\n",
    "        # get page, price, neighborhood\n",
    "        page = read_url(url)\n",
    "        PRICE, DURATION = convert(page)\n",
    "\n",
    "        DISTRICT = np.NaN\n",
    "        div = page.find('div', class_='tree treeMargin')\n",
    "        for link in div.find_all('a'):\n",
    "            if(link.text.startswith('حي')):\n",
    "                DISTRICT = link.text\n",
    "            if any(r in link.text for r in R):\n",
    "                REGION = link.text\n",
    "        \n",
    "\n",
    "        # main table\n",
    "        table = page.find('table',{\"class\":\"dc-detailsTable\"}).find_all('tr')\n",
    "\n",
    "        BED = np.NaN\n",
    "        BATH = np.NaN\n",
    "        AGE = np.NaN\n",
    "        LIVING = np.NaN\n",
    "\n",
    "        for tr in table:\n",
    "            td = tr.find_all('td')\n",
    "            row = [i.text for i in td]\n",
    "            if row[1] == 'غرف النوم':\n",
    "                BED = row[0]\n",
    "            if row[1] == 'دورات مياه':\n",
    "                BATH = row[0]\n",
    "            if row[1] == 'الصالات':\n",
    "                LIVING = row[0]\n",
    "            if row[1] == 'عمر العقار':\n",
    "                AGE = row[0].strip().split()[0]\n",
    "                if AGE == 'جديد':\n",
    "                    AGE = 0\n",
    "            if row[1] == 'الدور':\n",
    "                FLOOR = row[0]\n",
    "            if row[1] == 'الفئة':\n",
    "                if row[0] == \"عوائل\":\n",
    "                    TARGET = \"Families\"\n",
    "                if row[0] == \"عزاب\":\n",
    "                    TARGET = \"Bachelors\"\n",
    "\n",
    "\n",
    "        PRICE_list.append(PRICE)\n",
    "        BED_list.append(BED)\n",
    "        BATH_list.append(BATH)\n",
    "        LIVING_List.append(LIVING)\n",
    "        AGE_list.append(AGE)\n",
    "        DISTRICT_list.append(DISTRICT)\n",
    "        FLOOR_list.append(FLOOR)\n",
    "        TARGET_list.append(TARGET)\n",
    "        REGION_list.append(REGION)\n",
    "        DURATION_list.append(DURATION)\n",
    "        urlapt.append(url)\n",
    "\n",
    "        # extra table\n",
    "        FURNISHED, KITCHEN, ANNEXE, PARKING, ELEVATOR, AC = 0,0,0,0,0,0\n",
    "\n",
    "        extraTable = page.find('table', {\"class\": \"dc-extraDetailsTable\"}).find_all('tr')\n",
    "\n",
    "        for tr2 in extraTable:\n",
    "            td2 = tr2.find_all('td')\n",
    "            row2 = [i.text for i in td2]\n",
    "            if 'مؤثثة' in row2:\n",
    "                FURNISHED = 1\n",
    "            if 'مطبخ' in row2:\n",
    "                KITCHEN = 1\n",
    "            if 'ملحق' in row2:\n",
    "                ANNEXE = 1\n",
    "            if 'مدخل سيارة' in row2:\n",
    "                PARKING = 1\n",
    "            if 'مصعد' in row2:\n",
    "                ELEVATOR = 1\n",
    "            if 'مكيفات' in row2:\n",
    "                AC = 1\n",
    "\n",
    "\n",
    "        FURNISHED_list.append(FURNISHED)\n",
    "        KITCHEN_list.append(KITCHEN)\n",
    "        ANNEXE_list.append(ANNEXE)\n",
    "        PARKING_list.append(PARKING)\n",
    "        ELEVATOR_list.append(ELEVATOR)\n",
    "        AC_list.append(AC)        \n",
    "\n",
    "\n",
    "        # image count\n",
    "        try:            \n",
    "            images = 0\n",
    "            b = len(page.find('div', {'class':'listingImgContainer'}).findAll(\"img\",{\"class\":\"listingPageImg\"}))\n",
    "            c = len(page.find('div', {'class':'listingImgContainer'}).findAll(\"img\",{\"class\":\"listingPageImg hide\"}))\n",
    "            images = b-c\n",
    "            IMAGES_list.append(images)\n",
    "        except Exception:\n",
    "            IMAGES_list.append(0)        \n",
    "\n",
    "\n",
    "    except Exception as e:\n",
    "        print(e, \"->\", url)"
   ]
  },
  {
   "cell_type": "code",
   "execution_count": null,
   "metadata": {
    "id": "vi5iy4Qgj7Tv",
    "scrolled": false
   },
   "outputs": [],
   "source": [
    "dataset = pd.DataFrame({\n",
    "    \"DISTRICT\": DISTRICT_list,\n",
    "    \"REGION\": REGION_list,\n",
    "    \"PRICE\": PRICE_list,\n",
    "    \"DURATION\": DURATION_list,\n",
    "    \"BED\": BED_list,\n",
    "    \"BATH\": BATH_list,\n",
    "    \"LIVING\": LIVING_List,\n",
    "    \"AGE\": AGE_list,\n",
    "    \"IMAGES\": IMAGES_list,\n",
    "    \"FLOOR\": FLOOR_list,\n",
    "    \"TARGET\": TARGET_list,\n",
    "    \"FURNISHED\": FURNISHED_list,\n",
    "    \"KITCHEN\": KITCHEN_list,\n",
    "    \"ANNEXE\": ANNEXE_list,\n",
    "    \"PARKING\": PARKING_list,\n",
    "    \"ELEVATOR\": ELEVATOR_list,\n",
    "    \"AC\": AC_list,\n",
    "    \"url\": urlapt\n",
    "})\n",
    "dataset[:40]"
   ]
  },
  {
   "cell_type": "code",
   "execution_count": null,
   "metadata": {
    "id": "RnfSBGaQj7Tv"
   },
   "outputs": [],
   "source": [
    "dataset.info()"
   ]
  },
  {
   "cell_type": "code",
   "execution_count": null,
   "metadata": {
    "id": "QP0mI8R-j7Tv"
   },
   "outputs": [],
   "source": [
    "dataset.to_excel(\"Aqarat3.xlsx\")"
   ]
  },
  {
   "cell_type": "code",
   "execution_count": null,
   "metadata": {
    "id": "ZLDoefMNj7Tw"
   },
   "outputs": [],
   "source": []
  },
  {
   "cell_type": "code",
   "execution_count": null,
   "metadata": {
    "id": "snxTrNoGj7Tw"
   },
   "outputs": [],
   "source": []
  },
  {
   "cell_type": "markdown",
   "metadata": {
    "id": "KKY8rEW8j7Tw"
   },
   "source": [
    "Read excel file"
   ]
  },
  {
   "cell_type": "code",
   "execution_count": null,
   "metadata": {
    "id": "G0SpV67yj7Tw"
   },
   "outputs": [],
   "source": [
    "d=pd.read_excel(\"Aqarat3.xlsx\")\n",
    "d.drop(\"Unnamed: 0\",axis=1,inplace=True)\n",
    "d"
   ]
  },
  {
   "cell_type": "code",
   "execution_count": null,
   "metadata": {
    "id": "Y122zILcj7Tx"
   },
   "outputs": [],
   "source": [
    "d.REGION.value_counts()"
   ]
  }
 ],
 "metadata": {
  "colab": {
   "collapsed_sections": [],
   "name": "Scraping.ipynb",
   "provenance": []
  },
  "kernelspec": {
   "display_name": "Python 3",
   "language": "python",
   "name": "python3"
  },
  "language_info": {
   "codemirror_mode": {
    "name": "ipython",
    "version": 3
   },
   "file_extension": ".py",
   "mimetype": "text/x-python",
   "name": "python",
   "nbconvert_exporter": "python",
   "pygments_lexer": "ipython3",
   "version": "3.8.8"
  },
  "toc": {
   "base_numbering": 1,
   "nav_menu": {},
   "number_sections": true,
   "sideBar": true,
   "skip_h1_title": false,
   "title_cell": "Table of Contents",
   "title_sidebar": "Contents",
   "toc_cell": false,
   "toc_position": {},
   "toc_section_display": true,
   "toc_window_display": false
  },
  "varInspector": {
   "cols": {
    "lenName": 16,
    "lenType": 16,
    "lenVar": 40
   },
   "kernels_config": {
    "python": {
     "delete_cmd_postfix": "",
     "delete_cmd_prefix": "del ",
     "library": "var_list.py",
     "varRefreshCmd": "print(var_dic_list())"
    },
    "r": {
     "delete_cmd_postfix": ") ",
     "delete_cmd_prefix": "rm(",
     "library": "var_list.r",
     "varRefreshCmd": "cat(var_dic_list()) "
    }
   },
   "types_to_exclude": [
    "module",
    "function",
    "builtin_function_or_method",
    "instance",
    "_Feature"
   ],
   "window_display": false
  },
  "widgets": {
   "application/vnd.jupyter.widget-state+json": {
    "217487ea6eb444e591af77717945abe3": {
     "model_module": "@jupyter-widgets/base",
     "model_module_version": "1.2.0",
     "model_name": "LayoutModel",
     "state": {
      "_model_module": "@jupyter-widgets/base",
      "_model_module_version": "1.2.0",
      "_model_name": "LayoutModel",
      "_view_count": null,
      "_view_module": "@jupyter-widgets/base",
      "_view_module_version": "1.2.0",
      "_view_name": "LayoutView",
      "align_content": null,
      "align_items": null,
      "align_self": null,
      "border": null,
      "bottom": null,
      "display": null,
      "flex": null,
      "flex_flow": null,
      "grid_area": null,
      "grid_auto_columns": null,
      "grid_auto_flow": null,
      "grid_auto_rows": null,
      "grid_column": null,
      "grid_gap": null,
      "grid_row": null,
      "grid_template_areas": null,
      "grid_template_columns": null,
      "grid_template_rows": null,
      "height": null,
      "justify_content": null,
      "justify_items": null,
      "left": null,
      "margin": null,
      "max_height": null,
      "max_width": null,
      "min_height": null,
      "min_width": null,
      "object_fit": null,
      "object_position": null,
      "order": null,
      "overflow": null,
      "overflow_x": null,
      "overflow_y": null,
      "padding": null,
      "right": null,
      "top": null,
      "visibility": null,
      "width": null
     }
    },
    "28d06de9a6a04df4ab1699c35465d798": {
     "model_module": "@jupyter-widgets/controls",
     "model_module_version": "1.5.0",
     "model_name": "HTMLModel",
     "state": {
      "_dom_classes": [],
      "_model_module": "@jupyter-widgets/controls",
      "_model_module_version": "1.5.0",
      "_model_name": "HTMLModel",
      "_view_count": null,
      "_view_module": "@jupyter-widgets/controls",
      "_view_module_version": "1.5.0",
      "_view_name": "HTMLView",
      "description": "",
      "description_tooltip": null,
      "layout": "IPY_MODEL_32bf0f4036e540e19e2b75d4b3e29352",
      "placeholder": "​",
      "style": "IPY_MODEL_f8d1c3950ef24debabd7c0d6e118eb09",
      "value": " 354/354 [04:48&lt;00:00,  1.32it/s]"
     }
    },
    "2fa95b15cf744bf4bce7c230820c854a": {
     "model_module": "@jupyter-widgets/base",
     "model_module_version": "1.2.0",
     "model_name": "LayoutModel",
     "state": {
      "_model_module": "@jupyter-widgets/base",
      "_model_module_version": "1.2.0",
      "_model_name": "LayoutModel",
      "_view_count": null,
      "_view_module": "@jupyter-widgets/base",
      "_view_module_version": "1.2.0",
      "_view_name": "LayoutView",
      "align_content": null,
      "align_items": null,
      "align_self": null,
      "border": null,
      "bottom": null,
      "display": null,
      "flex": null,
      "flex_flow": null,
      "grid_area": null,
      "grid_auto_columns": null,
      "grid_auto_flow": null,
      "grid_auto_rows": null,
      "grid_column": null,
      "grid_gap": null,
      "grid_row": null,
      "grid_template_areas": null,
      "grid_template_columns": null,
      "grid_template_rows": null,
      "height": null,
      "justify_content": null,
      "justify_items": null,
      "left": null,
      "margin": null,
      "max_height": null,
      "max_width": null,
      "min_height": null,
      "min_width": null,
      "object_fit": null,
      "object_position": null,
      "order": null,
      "overflow": null,
      "overflow_x": null,
      "overflow_y": null,
      "padding": null,
      "right": null,
      "top": null,
      "visibility": null,
      "width": null
     }
    },
    "32bf0f4036e540e19e2b75d4b3e29352": {
     "model_module": "@jupyter-widgets/base",
     "model_module_version": "1.2.0",
     "model_name": "LayoutModel",
     "state": {
      "_model_module": "@jupyter-widgets/base",
      "_model_module_version": "1.2.0",
      "_model_name": "LayoutModel",
      "_view_count": null,
      "_view_module": "@jupyter-widgets/base",
      "_view_module_version": "1.2.0",
      "_view_name": "LayoutView",
      "align_content": null,
      "align_items": null,
      "align_self": null,
      "border": null,
      "bottom": null,
      "display": null,
      "flex": null,
      "flex_flow": null,
      "grid_area": null,
      "grid_auto_columns": null,
      "grid_auto_flow": null,
      "grid_auto_rows": null,
      "grid_column": null,
      "grid_gap": null,
      "grid_row": null,
      "grid_template_areas": null,
      "grid_template_columns": null,
      "grid_template_rows": null,
      "height": null,
      "justify_content": null,
      "justify_items": null,
      "left": null,
      "margin": null,
      "max_height": null,
      "max_width": null,
      "min_height": null,
      "min_width": null,
      "object_fit": null,
      "object_position": null,
      "order": null,
      "overflow": null,
      "overflow_x": null,
      "overflow_y": null,
      "padding": null,
      "right": null,
      "top": null,
      "visibility": null,
      "width": null
     }
    },
    "3bf47bf7bfb346b5a5a970601689b6ce": {
     "model_module": "@jupyter-widgets/controls",
     "model_module_version": "1.5.0",
     "model_name": "FloatProgressModel",
     "state": {
      "_dom_classes": [],
      "_model_module": "@jupyter-widgets/controls",
      "_model_module_version": "1.5.0",
      "_model_name": "FloatProgressModel",
      "_view_count": null,
      "_view_module": "@jupyter-widgets/controls",
      "_view_module_version": "1.5.0",
      "_view_name": "ProgressView",
      "bar_style": "success",
      "description": "",
      "description_tooltip": null,
      "layout": "IPY_MODEL_217487ea6eb444e591af77717945abe3",
      "max": 354,
      "min": 0,
      "orientation": "horizontal",
      "style": "IPY_MODEL_ef96e4e132c04b7b8a91b5d6c137cf91",
      "value": 354
     }
    },
    "6ebf988c9c2e497098678971febddc1d": {
     "model_module": "@jupyter-widgets/controls",
     "model_module_version": "1.5.0",
     "model_name": "HBoxModel",
     "state": {
      "_dom_classes": [],
      "_model_module": "@jupyter-widgets/controls",
      "_model_module_version": "1.5.0",
      "_model_name": "HBoxModel",
      "_view_count": null,
      "_view_module": "@jupyter-widgets/controls",
      "_view_module_version": "1.5.0",
      "_view_name": "HBoxView",
      "box_style": "",
      "children": [
       "IPY_MODEL_edd80abc1c9d4990853562baaf3f8e84",
       "IPY_MODEL_3bf47bf7bfb346b5a5a970601689b6ce",
       "IPY_MODEL_28d06de9a6a04df4ab1699c35465d798"
      ],
      "layout": "IPY_MODEL_2fa95b15cf744bf4bce7c230820c854a"
     }
    },
    "aa70977c4e0d4bbba905ebfc0ebaa8f5": {
     "model_module": "@jupyter-widgets/base",
     "model_module_version": "1.2.0",
     "model_name": "LayoutModel",
     "state": {
      "_model_module": "@jupyter-widgets/base",
      "_model_module_version": "1.2.0",
      "_model_name": "LayoutModel",
      "_view_count": null,
      "_view_module": "@jupyter-widgets/base",
      "_view_module_version": "1.2.0",
      "_view_name": "LayoutView",
      "align_content": null,
      "align_items": null,
      "align_self": null,
      "border": null,
      "bottom": null,
      "display": null,
      "flex": null,
      "flex_flow": null,
      "grid_area": null,
      "grid_auto_columns": null,
      "grid_auto_flow": null,
      "grid_auto_rows": null,
      "grid_column": null,
      "grid_gap": null,
      "grid_row": null,
      "grid_template_areas": null,
      "grid_template_columns": null,
      "grid_template_rows": null,
      "height": null,
      "justify_content": null,
      "justify_items": null,
      "left": null,
      "margin": null,
      "max_height": null,
      "max_width": null,
      "min_height": null,
      "min_width": null,
      "object_fit": null,
      "object_position": null,
      "order": null,
      "overflow": null,
      "overflow_x": null,
      "overflow_y": null,
      "padding": null,
      "right": null,
      "top": null,
      "visibility": null,
      "width": null
     }
    },
    "e8ad6d095d3042c0b62e39bebbacd1f2": {
     "model_module": "@jupyter-widgets/controls",
     "model_module_version": "1.5.0",
     "model_name": "DescriptionStyleModel",
     "state": {
      "_model_module": "@jupyter-widgets/controls",
      "_model_module_version": "1.5.0",
      "_model_name": "DescriptionStyleModel",
      "_view_count": null,
      "_view_module": "@jupyter-widgets/base",
      "_view_module_version": "1.2.0",
      "_view_name": "StyleView",
      "description_width": ""
     }
    },
    "edd80abc1c9d4990853562baaf3f8e84": {
     "model_module": "@jupyter-widgets/controls",
     "model_module_version": "1.5.0",
     "model_name": "HTMLModel",
     "state": {
      "_dom_classes": [],
      "_model_module": "@jupyter-widgets/controls",
      "_model_module_version": "1.5.0",
      "_model_name": "HTMLModel",
      "_view_count": null,
      "_view_module": "@jupyter-widgets/controls",
      "_view_module_version": "1.5.0",
      "_view_name": "HTMLView",
      "description": "",
      "description_tooltip": null,
      "layout": "IPY_MODEL_aa70977c4e0d4bbba905ebfc0ebaa8f5",
      "placeholder": "​",
      "style": "IPY_MODEL_e8ad6d095d3042c0b62e39bebbacd1f2",
      "value": "100%"
     }
    },
    "ef96e4e132c04b7b8a91b5d6c137cf91": {
     "model_module": "@jupyter-widgets/controls",
     "model_module_version": "1.5.0",
     "model_name": "ProgressStyleModel",
     "state": {
      "_model_module": "@jupyter-widgets/controls",
      "_model_module_version": "1.5.0",
      "_model_name": "ProgressStyleModel",
      "_view_count": null,
      "_view_module": "@jupyter-widgets/base",
      "_view_module_version": "1.2.0",
      "_view_name": "StyleView",
      "bar_color": null,
      "description_width": ""
     }
    },
    "f8d1c3950ef24debabd7c0d6e118eb09": {
     "model_module": "@jupyter-widgets/controls",
     "model_module_version": "1.5.0",
     "model_name": "DescriptionStyleModel",
     "state": {
      "_model_module": "@jupyter-widgets/controls",
      "_model_module_version": "1.5.0",
      "_model_name": "DescriptionStyleModel",
      "_view_count": null,
      "_view_module": "@jupyter-widgets/base",
      "_view_module_version": "1.2.0",
      "_view_name": "StyleView",
      "description_width": ""
     }
    }
   }
  }
 },
 "nbformat": 4,
 "nbformat_minor": 1
}
